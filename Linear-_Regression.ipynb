{
 "cells": [
  {
   "cell_type": "code",
   "execution_count": 8,
   "metadata": {},
   "outputs": [],
   "source": [
    "# Importing libraries\n",
    "import pandas as pd\n",
    "import matplotlib.pyplot as plt\n",
    "import seaborn as sns\n",
    "from sklearn.model_selection import train_test_split\n",
    "from imblearn.over_sampling import SMOTE\n",
    "from sklearn import linear_model\n",
    "from sklearn.metrics import accuracy_score\n",
    "from sklearn.metrics import classification_report\n",
    "from sklearn.metrics import confusion_matrix\n",
    "from sklearn.metrics import accuracy_score"
   ]
  },
  {
   "cell_type": "code",
   "execution_count": 9,
   "metadata": {},
   "outputs": [],
   "source": [
    "# Reading Dataset\n",
    "yelp_business = pd.read_csv('/home/luma/Downloads/yelp_training_set_flattened.csv')"
   ]
  },
  {
   "cell_type": "code",
   "execution_count": 10,
   "metadata": {},
   "outputs": [
    {
     "data": {
      "text/html": [
       "<div>\n",
       "<style scoped>\n",
       "    .dataframe tbody tr th:only-of-type {\n",
       "        vertical-align: middle;\n",
       "    }\n",
       "\n",
       "    .dataframe tbody tr th {\n",
       "        vertical-align: top;\n",
       "    }\n",
       "\n",
       "    .dataframe thead th {\n",
       "        text-align: right;\n",
       "    }\n",
       "</style>\n",
       "<table border=\"1\" class=\"dataframe\">\n",
       "  <thead>\n",
       "    <tr style=\"text-align: right;\">\n",
       "      <th></th>\n",
       "      <th>Unnamed: 0</th>\n",
       "      <th>business_blank</th>\n",
       "      <th>business_categories</th>\n",
       "      <th>business_city</th>\n",
       "      <th>business_full_address</th>\n",
       "      <th>business_id</th>\n",
       "      <th>business_latitude</th>\n",
       "      <th>business_longitude</th>\n",
       "      <th>business_name</th>\n",
       "      <th>business_neighborhoods</th>\n",
       "      <th>...</th>\n",
       "      <th>reviewer_funny</th>\n",
       "      <th>reviewer_name</th>\n",
       "      <th>reviewer_review_count</th>\n",
       "      <th>reviewer_type</th>\n",
       "      <th>reviewer_useful</th>\n",
       "      <th>stars</th>\n",
       "      <th>text</th>\n",
       "      <th>type</th>\n",
       "      <th>useful</th>\n",
       "      <th>user_id</th>\n",
       "    </tr>\n",
       "  </thead>\n",
       "  <tbody>\n",
       "    <tr>\n",
       "      <th>0</th>\n",
       "      <td>0</td>\n",
       "      <td>False</td>\n",
       "      <td>Breakfast &amp; Brunch; Restaurants</td>\n",
       "      <td>Phoenix</td>\n",
       "      <td>6106 S 32nd St\\nPhoenix, AZ 85042</td>\n",
       "      <td>9yKzy9PApeiPPOUJEtnvkg</td>\n",
       "      <td>33.390792</td>\n",
       "      <td>-112.012504</td>\n",
       "      <td>Morning Glory Cafe</td>\n",
       "      <td>NaN</td>\n",
       "      <td>...</td>\n",
       "      <td>331</td>\n",
       "      <td>Jason</td>\n",
       "      <td>376</td>\n",
       "      <td>user</td>\n",
       "      <td>1034</td>\n",
       "      <td>5</td>\n",
       "      <td>My wife took me here on my birthday for breakf...</td>\n",
       "      <td>review</td>\n",
       "      <td>5</td>\n",
       "      <td>rLtl8ZkDX5vH5nAx9C3q5Q</td>\n",
       "    </tr>\n",
       "  </tbody>\n",
       "</table>\n",
       "<p>1 rows × 32 columns</p>\n",
       "</div>"
      ],
      "text/plain": [
       "   Unnamed: 0  business_blank              business_categories business_city  \\\n",
       "0           0           False  Breakfast & Brunch; Restaurants       Phoenix   \n",
       "\n",
       "               business_full_address             business_id  \\\n",
       "0  6106 S 32nd St\\nPhoenix, AZ 85042  9yKzy9PApeiPPOUJEtnvkg   \n",
       "\n",
       "   business_latitude  business_longitude       business_name  \\\n",
       "0          33.390792         -112.012504  Morning Glory Cafe   \n",
       "\n",
       "   business_neighborhoods  ...  reviewer_funny  reviewer_name  \\\n",
       "0                     NaN  ...             331          Jason   \n",
       "\n",
       "   reviewer_review_count reviewer_type reviewer_useful  stars  \\\n",
       "0                    376          user            1034      5   \n",
       "\n",
       "                                                text    type useful  \\\n",
       "0  My wife took me here on my birthday for breakf...  review      5   \n",
       "\n",
       "                  user_id  \n",
       "0  rLtl8ZkDX5vH5nAx9C3q5Q  \n",
       "\n",
       "[1 rows x 32 columns]"
      ]
     },
     "execution_count": 10,
     "metadata": {},
     "output_type": "execute_result"
    }
   ],
   "source": [
    "yelp_business.head(1)"
   ]
  },
  {
   "cell_type": "code",
   "execution_count": 11,
   "metadata": {},
   "outputs": [
    {
     "name": "stdout",
     "output_type": "stream",
     "text": [
      "['Unnamed: 0', 'business_blank', 'business_categories', 'business_city', 'business_full_address', 'business_id', 'business_latitude', 'business_longitude', 'business_name', 'business_neighborhoods', 'business_open', 'business_review_count', 'business_stars', 'business_state', 'business_type', 'cool', 'date', 'funny', 'review_id', 'reviewer_average_stars', 'reviewer_blank', 'reviewer_cool', 'reviewer_funny', 'reviewer_name', 'reviewer_review_count', 'reviewer_type', 'reviewer_useful', 'stars', 'text', 'type', 'useful', 'user_id']\n"
     ]
    }
   ],
   "source": [
    "# Columns list\n",
    "print(yelp_business.columns.tolist())"
   ]
  },
  {
   "cell_type": "code",
   "execution_count": 12,
   "metadata": {},
   "outputs": [
    {
     "data": {
      "image/png": "[encoded data removed]",
      "text/plain": [
       "<Figure size 432x432 with 1 Axes>"
      ]
     },
     "metadata": {
      "needs_background": "light"
     },
     "output_type": "display_data"
    }
   ],
   "source": [
    "# Count for Number businesses Open and Close\n",
    "plt.figure(figsize=(6,6))\n",
    "sns.countplot(x='business_open',data=yelp_business);"
   ]
  },
  {
   "cell_type": "code",
   "execution_count": 13,
   "metadata": {},
   "outputs": [],
   "source": [
    "#Regression Model\n",
    "# These are the columns which are independant variables\n",
    "cols1 = ['business_latitude',\n",
    " 'business_longitude',\n",
    " 'business_stars',\n",
    " 'business_review_count']"
   ]
  },
  {
   "cell_type": "code",
   "execution_count": 14,
   "metadata": {},
   "outputs": [],
   "source": [
    "X = yelp_business[cols1]\n",
    "y = yelp_business['business_open']"
   ]
  },
  {
   "cell_type": "code",
   "execution_count": 15,
   "metadata": {},
   "outputs": [
    {
     "name": "stderr",
     "output_type": "stream",
     "text": [
      "/home/luma/.local/lib/python3.8/site-packages/pandas/core/frame.py:4321: SettingWithCopyWarning: \n",
      "A value is trying to be set on a copy of a slice from a DataFrame\n",
      "\n",
      "See the caveats in the documentation: https://pandas.pydata.org/pandas-docs/stable/user_guide/indexing.html#returning-a-view-versus-a-copy\n",
      "  return super().fillna(\n"
     ]
    }
   ],
   "source": [
    "# If anything has empty value then fill it with 0.0\n",
    "X.fillna(0.0,inplace=True) "
   ]
  },
  {
   "cell_type": "code",
   "execution_count": 16,
   "metadata": {},
   "outputs": [],
   "source": [
    "# Split the dataset for training and testing\n",
    "train_X, test_X, train_y, test_y = train_test_split(X,y,test_size = 0.3, random_state = 42)"
   ]
  },
  {
   "cell_type": "code",
   "execution_count": 20,
   "metadata": {},
   "outputs": [],
   "source": [
    "# Sampling\n",
    "sm = SMOTE(random_state=42)"
   ]
  },
  {
   "cell_type": "code",
   "execution_count": 21,
   "metadata": {},
   "outputs": [],
   "source": [
    "# Fit the training set\n",
    "X_res, y_res = sm.fit_sample(train_X, train_y)"
   ]
  },
  {
   "cell_type": "code",
   "execution_count": 45,
   "metadata": {},
   "outputs": [],
   "source": [
    "# Make all of these as Dataframes\n",
    "X_res = pd.DataFrame(X_res)\n",
    "y_res = pd.DataFrame(y_res)\n",
    "test_X = pd.DataFrame(test_X)\n",
    "test_y = pd.DataFrame(test_y)"
   ]
  },
  {
   "cell_type": "code",
   "execution_count": 46,
   "metadata": {},
   "outputs": [],
   "source": [
    "# from sklearn.linear_model import LinearRegeression\n",
    "LR = linear_model.LinearRegression()\n",
    "LR.fit(X_res,y_res)\n",
    "\n",
    "pred_y = LR.predict(test_X)\n"
   ]
  },
  {
   "cell_type": "code",
   "execution_count": 58,
   "metadata": {},
   "outputs": [
    {
     "data": {
      "text/plain": [
       "0.5635828512606382"
      ]
     },
     "execution_count": 58,
     "metadata": {},
     "output_type": "execute_result"
    }
   ],
   "source": [
    "accuracy_score(test_y.values,pred_y.round())"
   ]
  },
  {
   "cell_type": "code",
   "execution_count": 59,
   "metadata": {},
   "outputs": [
    {
     "name": "stdout",
     "output_type": "stream",
     "text": [
      "              precision    recall  f1-score   support\n",
      "\n",
      "           0       0.13      0.74      0.22      5713\n",
      "           1       0.96      0.55      0.70     63260\n",
      "\n",
      "    accuracy                           0.56     68973\n",
      "   macro avg       0.54      0.64      0.46     68973\n",
      "weighted avg       0.89      0.56      0.66     68973\n",
      "\n"
     ]
    }
   ],
   "source": [
    "print(classification_report(test_y.values, pred_y.round()))"
   ]
  },
  {
   "cell_type": "code",
   "execution_count": 62,
   "metadata": {},
   "outputs": [
    {
     "data": {
      "text/plain": [
       "array([[ 4211,  1502],\n",
       "       [28599, 34661]])"
      ]
     },
     "execution_count": 62,
     "metadata": {},
     "output_type": "execute_result"
    }
   ],
   "source": [
    "# Confusion metrics\n",
    "confusion_matrix(test_y.values,pred_y.round())"
   ]
  },
  {
   "cell_type": "code",
   "execution_count": 63,
   "metadata": {},
   "outputs": [
    {
     "data": {
      "text/plain": [
       "0.5635828512606382"
      ]
     },
     "execution_count": 63,
     "metadata": {},
     "output_type": "execute_result"
    }
   ],
   "source": [
    "# Final accuracy score\n",
    "accuracy_score(test_y.values,pred_y.round())"
   ]
  },
  {
   "cell_type": "code",
   "execution_count": 64,
   "metadata": {},
   "outputs": [
    {
     "data": {
      "text/plain": [
       "array([[-0.14657988,  0.0239883 ,  0.10533271,  0.00119477]])"
      ]
     },
     "execution_count": 64,
     "metadata": {},
     "output_type": "execute_result"
    }
   ],
   "source": [
    "# Contribution of each variable\n",
    "LR.coef_"
   ]
  },
  {
   "cell_type": "code",
   "execution_count": null,
   "metadata": {},
   "outputs": [],
   "source": []
  }
 ],
 "metadata": {
  "kernelspec": {
   "display_name": "Python 3",
   "language": "python",
   "name": "python3"
  },
  "language_info": {
   "codemirror_mode": {
    "name": "ipython",
    "version": 3
   },
   "file_extension": ".py",
   "mimetype": "text/x-python",
   "name": "python",
   "nbconvert_exporter": "python",
   "pygments_lexer": "ipython3",
   "version": "3.8.5"
  }
 },
 "nbformat": 4,
 "nbformat_minor": 4
}
